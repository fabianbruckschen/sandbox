{
 "cells": [
  {
   "cell_type": "markdown",
   "metadata": {},
   "source": [
    "# Extract images from sat_img folder to train NN on it"
   ]
  },
  {
   "cell_type": "markdown",
   "metadata": {},
   "source": [
    "## Preprocessing"
   ]
  },
  {
   "cell_type": "code",
   "execution_count": 1,
   "metadata": {},
   "outputs": [],
   "source": [
    "# modules\n",
    "import glob\n",
    "import re\n",
    "import os\n",
    "import shutil\n",
    "from PIL import Image"
   ]
  },
  {
   "cell_type": "code",
   "execution_count": 2,
   "metadata": {},
   "outputs": [],
   "source": [
    "# list all files and subfolders\n",
    "files = glob.glob('./sat_img/**', recursive=True)"
   ]
  },
  {
   "cell_type": "code",
   "execution_count": 3,
   "metadata": {},
   "outputs": [],
   "source": [
    "# regular expression to filter out files we are interested in\n",
    "pattern = r'^.*(0_rgb\\.jpg).*$'"
   ]
  },
  {
   "cell_type": "code",
   "execution_count": 4,
   "metadata": {},
   "outputs": [
    {
     "data": {
      "text/plain": [
       "62051"
      ]
     },
     "execution_count": 4,
     "metadata": {},
     "output_type": "execute_result"
    }
   ],
   "source": [
    "# extract files of interest\n",
    "regex = re.compile(pattern)\n",
    "\n",
    "selected_files = list(filter(regex.search, files))\n",
    "len(selected_files)"
   ]
  },
  {
   "cell_type": "code",
   "execution_count": 6,
   "metadata": {},
   "outputs": [],
   "source": [
    "# save at new destination and decrease in size\n",
    "for file_name in selected_files:\n",
    "    if os.stat(file_name).st_size <= 1000000:\n",
    "        image = Image.open(file_name)\n",
    "        newImage = image.resize((300, 300))\n",
    "        dir = './nn_train/'+file_name[10:].split('/')[0]\n",
    "        new_file_name = file_name.split('/')[4]\n",
    "        if not os.path.exists(dir):\n",
    "            os.mkdir(dir)\n",
    "        newImage.save(dir+'/'+new_file_name)"
   ]
  },
  {
   "cell_type": "code",
   "execution_count": null,
   "metadata": {},
   "outputs": [],
   "source": []
  }
 ],
 "metadata": {
  "kernelspec": {
   "display_name": "Python 3",
   "language": "python",
   "name": "python3"
  },
  "language_info": {
   "codemirror_mode": {
    "name": "ipython",
    "version": 3
   },
   "file_extension": ".py",
   "mimetype": "text/x-python",
   "name": "python",
   "nbconvert_exporter": "python",
   "pygments_lexer": "ipython3",
   "version": "3.6.5"
  }
 },
 "nbformat": 4,
 "nbformat_minor": 2
}

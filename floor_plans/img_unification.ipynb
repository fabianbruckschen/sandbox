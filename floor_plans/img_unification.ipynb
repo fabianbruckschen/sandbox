{
 "cells": [
  {
   "cell_type": "markdown",
   "metadata": {},
   "source": [
    "# Put list of images into same format to easily train NN on it"
   ]
  },
  {
   "cell_type": "markdown",
   "metadata": {},
   "source": [
    "## Preprocessing"
   ]
  },
  {
   "cell_type": "code",
   "execution_count": 1,
   "metadata": {},
   "outputs": [],
   "source": [
    "# modules\n",
    "import glob\n",
    "import re\n",
    "import os\n",
    "import shutil\n",
    "import fnmatch\n",
    "from PIL import Image"
   ]
  },
  {
   "cell_type": "code",
   "execution_count": 2,
   "metadata": {},
   "outputs": [],
   "source": [
    "# list all files and subfolders\n",
    "files = glob.glob('../Downloads/floor_plans/**', recursive=True)"
   ]
  },
  {
   "cell_type": "code",
   "execution_count": 3,
   "metadata": {},
   "outputs": [
    {
     "data": {
      "text/plain": [
       "93"
      ]
     },
     "execution_count": 3,
     "metadata": {},
     "output_type": "execute_result"
    }
   ],
   "source": [
    "# extract files of interest\n",
    "selected_files = []\n",
    "for file in files:\n",
    "    if fnmatch.fnmatch(file, '*.png'):\n",
    "        selected_files.append(file)\n",
    "len(selected_files)"
   ]
  },
  {
   "cell_type": "code",
   "execution_count": 4,
   "metadata": {},
   "outputs": [],
   "source": [
    "# save at new destination and decrease in size\n",
    "for file_name in selected_files:\n",
    "    if os.stat(file_name).st_size <= 5000000:\n",
    "        image = Image.open(file_name)\n",
    "        newImage = image.resize((600, 600))\n",
    "        dir = './floor_plans/'+file_name[25:].split('/')[0]\n",
    "        new_file_name = file_name.split('/')[4]\n",
    "        if not os.path.exists(dir):\n",
    "            os.mkdir(dir)\n",
    "        newImage.save(dir+'/'+new_file_name)"
   ]
  },
  {
   "cell_type": "code",
   "execution_count": null,
   "metadata": {},
   "outputs": [],
   "source": []
  }
 ],
 "metadata": {
  "kernelspec": {
   "display_name": "Python 3",
   "language": "python",
   "name": "python3"
  },
  "language_info": {
   "codemirror_mode": {
    "name": "ipython",
    "version": 3
   },
   "file_extension": ".py",
   "mimetype": "text/x-python",
   "name": "python",
   "nbconvert_exporter": "python",
   "pygments_lexer": "ipython3",
   "version": "3.6.5"
  }
 },
 "nbformat": 4,
 "nbformat_minor": 2
}

{
 "cells": [
  {
   "cell_type": "markdown",
   "metadata": {},
   "source": [
    "# Wedding Seating Allocation Algorithm"
   ]
  },
  {
   "cell_type": "markdown",
   "metadata": {},
   "source": [
    "This script tries to achieve the best allocation of guests possible to a given number of tables in terms of party mood. It needs several inputs:\n",
    "\n",
    "- s: maximum number of guests per table or an array of length t (number of tables) holding the seats available at each table like [8,9,8,8]\n",
    "- m: matrix of guests and closeness indicator for each pair of guests, like so:\n",
    "\n",
    "| Guests \t| Bob \t| Alice \t| Kenny \t| Celine \t|\n",
    "|--------\t|-----\t|-------\t|-------\t|--------\t|\n",
    "| Bob    \t| NA   \t| 9     \t| -9    \t| NA     \t|\n",
    "| Alice  \t| NA  \t| NA     \t| 1     \t| NA     \t|\n",
    "| Kenny  \t| NA  \t| NA    \t| NA     \t| 9     \t|\n",
    "| Celine \t| NA  \t| NA    \t| NA    \t| NA      \t|\n",
    "\n",
    "Inside the guest matrix, the higher the value the closer a pair is (negative signifies dislike). NAs and 0s mark pairs who either do not know each other or the impossible pair of the same person. We asusme mutual closeness here, meaning only the upper (or lower) half of the matrix has to be filled, i.e. there is only one look-up closeness value for each pair.\n",
    "So in this toy example Bob & Alice are together as well as Kenny & Celine. Bob & Kenny though are arch-enemies and Alice knows Kenny without having any strong feelings."
   ]
  },
  {
   "cell_type": "markdown",
   "metadata": {},
   "source": [
    "## Preparations"
   ]
  },
  {
   "cell_type": "code",
   "execution_count": 1,
   "metadata": {},
   "outputs": [],
   "source": [
    "# modules\n",
    "import pandas as pd\n",
    "import numpy as np\n",
    "import random as rd"
   ]
  },
  {
   "cell_type": "markdown",
   "metadata": {},
   "source": [
    "### Closeness matrix **m**"
   ]
  },
  {
   "cell_type": "code",
   "execution_count": 2,
   "metadata": {},
   "outputs": [],
   "source": [
    "m = pd.read_csv('./data/toBeSeated.csv', index_col=0)"
   ]
  },
  {
   "cell_type": "code",
   "execution_count": 3,
   "metadata": {},
   "outputs": [
    {
     "data": {
      "text/html": [
       "<div>\n",
       "<style scoped>\n",
       "    .dataframe tbody tr th:only-of-type {\n",
       "        vertical-align: middle;\n",
       "    }\n",
       "\n",
       "    .dataframe tbody tr th {\n",
       "        vertical-align: top;\n",
       "    }\n",
       "\n",
       "    .dataframe thead th {\n",
       "        text-align: right;\n",
       "    }\n",
       "</style>\n",
       "<table border=\"1\" class=\"dataframe\">\n",
       "  <thead>\n",
       "    <tr style=\"text-align: right;\">\n",
       "      <th></th>\n",
       "      <th>Jorg</th>\n",
       "      <th>Carola</th>\n",
       "      <th>Ingrid</th>\n",
       "      <th>Alina</th>\n",
       "      <th>Alex</th>\n",
       "      <th>Pirmin</th>\n",
       "      <th>Sophie</th>\n",
       "      <th>Helga</th>\n",
       "      <th>Anja</th>\n",
       "      <th>Eckhard</th>\n",
       "      <th>...</th>\n",
       "      <th>Melanie K</th>\n",
       "      <th>Uli</th>\n",
       "      <th>Kim</th>\n",
       "      <th>Anna-Luisa</th>\n",
       "      <th>Marcel</th>\n",
       "      <th>Jakob</th>\n",
       "      <th>Jeannine</th>\n",
       "      <th>Burak</th>\n",
       "      <th>Lukas</th>\n",
       "      <th>Merle</th>\n",
       "    </tr>\n",
       "  </thead>\n",
       "  <tbody>\n",
       "    <tr>\n",
       "      <th>Jorg</th>\n",
       "      <td>0.0</td>\n",
       "      <td>99.0</td>\n",
       "      <td>-99.0</td>\n",
       "      <td>-99.0</td>\n",
       "      <td>-99.0</td>\n",
       "      <td>-99.0</td>\n",
       "      <td>-99.0</td>\n",
       "      <td>1.0</td>\n",
       "      <td>5.0</td>\n",
       "      <td>5.0</td>\n",
       "      <td>...</td>\n",
       "      <td>NaN</td>\n",
       "      <td>NaN</td>\n",
       "      <td>NaN</td>\n",
       "      <td>NaN</td>\n",
       "      <td>NaN</td>\n",
       "      <td>NaN</td>\n",
       "      <td>NaN</td>\n",
       "      <td>NaN</td>\n",
       "      <td>NaN</td>\n",
       "      <td>NaN</td>\n",
       "    </tr>\n",
       "    <tr>\n",
       "      <th>Carola</th>\n",
       "      <td>NaN</td>\n",
       "      <td>0.0</td>\n",
       "      <td>-99.0</td>\n",
       "      <td>-99.0</td>\n",
       "      <td>-99.0</td>\n",
       "      <td>-99.0</td>\n",
       "      <td>-99.0</td>\n",
       "      <td>NaN</td>\n",
       "      <td>NaN</td>\n",
       "      <td>NaN</td>\n",
       "      <td>...</td>\n",
       "      <td>NaN</td>\n",
       "      <td>NaN</td>\n",
       "      <td>NaN</td>\n",
       "      <td>NaN</td>\n",
       "      <td>NaN</td>\n",
       "      <td>NaN</td>\n",
       "      <td>NaN</td>\n",
       "      <td>NaN</td>\n",
       "      <td>NaN</td>\n",
       "      <td>NaN</td>\n",
       "    </tr>\n",
       "    <tr>\n",
       "      <th>Ingrid</th>\n",
       "      <td>NaN</td>\n",
       "      <td>NaN</td>\n",
       "      <td>0.0</td>\n",
       "      <td>5.0</td>\n",
       "      <td>5.0</td>\n",
       "      <td>5.0</td>\n",
       "      <td>5.0</td>\n",
       "      <td>5.0</td>\n",
       "      <td>NaN</td>\n",
       "      <td>NaN</td>\n",
       "      <td>...</td>\n",
       "      <td>NaN</td>\n",
       "      <td>NaN</td>\n",
       "      <td>NaN</td>\n",
       "      <td>NaN</td>\n",
       "      <td>NaN</td>\n",
       "      <td>NaN</td>\n",
       "      <td>NaN</td>\n",
       "      <td>NaN</td>\n",
       "      <td>NaN</td>\n",
       "      <td>NaN</td>\n",
       "    </tr>\n",
       "    <tr>\n",
       "      <th>Alina</th>\n",
       "      <td>NaN</td>\n",
       "      <td>NaN</td>\n",
       "      <td>NaN</td>\n",
       "      <td>0.0</td>\n",
       "      <td>99.0</td>\n",
       "      <td>5.0</td>\n",
       "      <td>5.0</td>\n",
       "      <td>5.0</td>\n",
       "      <td>NaN</td>\n",
       "      <td>NaN</td>\n",
       "      <td>...</td>\n",
       "      <td>NaN</td>\n",
       "      <td>NaN</td>\n",
       "      <td>NaN</td>\n",
       "      <td>NaN</td>\n",
       "      <td>NaN</td>\n",
       "      <td>NaN</td>\n",
       "      <td>NaN</td>\n",
       "      <td>NaN</td>\n",
       "      <td>NaN</td>\n",
       "      <td>NaN</td>\n",
       "    </tr>\n",
       "    <tr>\n",
       "      <th>Alex</th>\n",
       "      <td>NaN</td>\n",
       "      <td>NaN</td>\n",
       "      <td>NaN</td>\n",
       "      <td>NaN</td>\n",
       "      <td>0.0</td>\n",
       "      <td>5.0</td>\n",
       "      <td>5.0</td>\n",
       "      <td>5.0</td>\n",
       "      <td>NaN</td>\n",
       "      <td>NaN</td>\n",
       "      <td>...</td>\n",
       "      <td>NaN</td>\n",
       "      <td>NaN</td>\n",
       "      <td>NaN</td>\n",
       "      <td>NaN</td>\n",
       "      <td>NaN</td>\n",
       "      <td>NaN</td>\n",
       "      <td>NaN</td>\n",
       "      <td>NaN</td>\n",
       "      <td>NaN</td>\n",
       "      <td>NaN</td>\n",
       "    </tr>\n",
       "  </tbody>\n",
       "</table>\n",
       "<p>5 rows × 36 columns</p>\n",
       "</div>"
      ],
      "text/plain": [
       "        Jorg  Carola  Ingrid  Alina  Alex  Pirmin  Sophie  Helga  Anja  \\\n",
       "Jorg     0.0    99.0   -99.0  -99.0 -99.0   -99.0   -99.0    1.0   5.0   \n",
       "Carola   NaN     0.0   -99.0  -99.0 -99.0   -99.0   -99.0    NaN   NaN   \n",
       "Ingrid   NaN     NaN     0.0    5.0   5.0     5.0     5.0    5.0   NaN   \n",
       "Alina    NaN     NaN     NaN    0.0  99.0     5.0     5.0    5.0   NaN   \n",
       "Alex     NaN     NaN     NaN    NaN   0.0     5.0     5.0    5.0   NaN   \n",
       "\n",
       "        Eckhard  ...    Melanie K  Uli  Kim  Anna-Luisa  Marcel  Jakob  \\\n",
       "Jorg        5.0  ...          NaN  NaN  NaN         NaN     NaN    NaN   \n",
       "Carola      NaN  ...          NaN  NaN  NaN         NaN     NaN    NaN   \n",
       "Ingrid      NaN  ...          NaN  NaN  NaN         NaN     NaN    NaN   \n",
       "Alina       NaN  ...          NaN  NaN  NaN         NaN     NaN    NaN   \n",
       "Alex        NaN  ...          NaN  NaN  NaN         NaN     NaN    NaN   \n",
       "\n",
       "        Jeannine  Burak  Lukas  Merle  \n",
       "Jorg         NaN    NaN    NaN    NaN  \n",
       "Carola       NaN    NaN    NaN    NaN  \n",
       "Ingrid       NaN    NaN    NaN    NaN  \n",
       "Alina        NaN    NaN    NaN    NaN  \n",
       "Alex         NaN    NaN    NaN    NaN  \n",
       "\n",
       "[5 rows x 36 columns]"
      ]
     },
     "execution_count": 3,
     "metadata": {},
     "output_type": "execute_result"
    }
   ],
   "source": [
    "m.head()"
   ]
  },
  {
   "cell_type": "code",
   "execution_count": 4,
   "metadata": {},
   "outputs": [],
   "source": [
    "# copy upper triangle to lower triangle\n",
    "for i in range(len(m)):\n",
    "    for j in range(i, len(m)):\n",
    "        m[m.columns[i]][j] = m[m.columns[j]][i]"
   ]
  },
  {
   "cell_type": "code",
   "execution_count": 5,
   "metadata": {},
   "outputs": [],
   "source": [
    "# fill up 0s\n",
    "m.fillna(value=0, inplace=True)"
   ]
  },
  {
   "cell_type": "code",
   "execution_count": 6,
   "metadata": {},
   "outputs": [
    {
     "data": {
      "text/html": [
       "<div>\n",
       "<style scoped>\n",
       "    .dataframe tbody tr th:only-of-type {\n",
       "        vertical-align: middle;\n",
       "    }\n",
       "\n",
       "    .dataframe tbody tr th {\n",
       "        vertical-align: top;\n",
       "    }\n",
       "\n",
       "    .dataframe thead th {\n",
       "        text-align: right;\n",
       "    }\n",
       "</style>\n",
       "<table border=\"1\" class=\"dataframe\">\n",
       "  <thead>\n",
       "    <tr style=\"text-align: right;\">\n",
       "      <th></th>\n",
       "      <th>Jorg</th>\n",
       "      <th>Carola</th>\n",
       "      <th>Ingrid</th>\n",
       "      <th>Alina</th>\n",
       "      <th>Alex</th>\n",
       "      <th>Pirmin</th>\n",
       "      <th>Sophie</th>\n",
       "      <th>Helga</th>\n",
       "      <th>Anja</th>\n",
       "      <th>Eckhard</th>\n",
       "      <th>...</th>\n",
       "      <th>Melanie K</th>\n",
       "      <th>Uli</th>\n",
       "      <th>Kim</th>\n",
       "      <th>Anna-Luisa</th>\n",
       "      <th>Marcel</th>\n",
       "      <th>Jakob</th>\n",
       "      <th>Jeannine</th>\n",
       "      <th>Burak</th>\n",
       "      <th>Lukas</th>\n",
       "      <th>Merle</th>\n",
       "    </tr>\n",
       "  </thead>\n",
       "  <tbody>\n",
       "    <tr>\n",
       "      <th>Jorg</th>\n",
       "      <td>0.0</td>\n",
       "      <td>99.0</td>\n",
       "      <td>-99.0</td>\n",
       "      <td>-99.0</td>\n",
       "      <td>-99.0</td>\n",
       "      <td>-99.0</td>\n",
       "      <td>-99.0</td>\n",
       "      <td>1.0</td>\n",
       "      <td>5.0</td>\n",
       "      <td>5.0</td>\n",
       "      <td>...</td>\n",
       "      <td>0.0</td>\n",
       "      <td>0.0</td>\n",
       "      <td>0.0</td>\n",
       "      <td>0.0</td>\n",
       "      <td>0.0</td>\n",
       "      <td>0.0</td>\n",
       "      <td>0.0</td>\n",
       "      <td>0.0</td>\n",
       "      <td>0.0</td>\n",
       "      <td>0.0</td>\n",
       "    </tr>\n",
       "    <tr>\n",
       "      <th>Carola</th>\n",
       "      <td>99.0</td>\n",
       "      <td>0.0</td>\n",
       "      <td>-99.0</td>\n",
       "      <td>-99.0</td>\n",
       "      <td>-99.0</td>\n",
       "      <td>-99.0</td>\n",
       "      <td>-99.0</td>\n",
       "      <td>0.0</td>\n",
       "      <td>0.0</td>\n",
       "      <td>0.0</td>\n",
       "      <td>...</td>\n",
       "      <td>0.0</td>\n",
       "      <td>0.0</td>\n",
       "      <td>0.0</td>\n",
       "      <td>0.0</td>\n",
       "      <td>0.0</td>\n",
       "      <td>0.0</td>\n",
       "      <td>0.0</td>\n",
       "      <td>0.0</td>\n",
       "      <td>0.0</td>\n",
       "      <td>0.0</td>\n",
       "    </tr>\n",
       "    <tr>\n",
       "      <th>Ingrid</th>\n",
       "      <td>-99.0</td>\n",
       "      <td>-99.0</td>\n",
       "      <td>0.0</td>\n",
       "      <td>5.0</td>\n",
       "      <td>5.0</td>\n",
       "      <td>5.0</td>\n",
       "      <td>5.0</td>\n",
       "      <td>5.0</td>\n",
       "      <td>0.0</td>\n",
       "      <td>0.0</td>\n",
       "      <td>...</td>\n",
       "      <td>0.0</td>\n",
       "      <td>0.0</td>\n",
       "      <td>0.0</td>\n",
       "      <td>0.0</td>\n",
       "      <td>0.0</td>\n",
       "      <td>0.0</td>\n",
       "      <td>0.0</td>\n",
       "      <td>0.0</td>\n",
       "      <td>0.0</td>\n",
       "      <td>0.0</td>\n",
       "    </tr>\n",
       "    <tr>\n",
       "      <th>Alina</th>\n",
       "      <td>-99.0</td>\n",
       "      <td>-99.0</td>\n",
       "      <td>5.0</td>\n",
       "      <td>0.0</td>\n",
       "      <td>99.0</td>\n",
       "      <td>5.0</td>\n",
       "      <td>5.0</td>\n",
       "      <td>5.0</td>\n",
       "      <td>0.0</td>\n",
       "      <td>0.0</td>\n",
       "      <td>...</td>\n",
       "      <td>0.0</td>\n",
       "      <td>0.0</td>\n",
       "      <td>0.0</td>\n",
       "      <td>0.0</td>\n",
       "      <td>0.0</td>\n",
       "      <td>0.0</td>\n",
       "      <td>0.0</td>\n",
       "      <td>0.0</td>\n",
       "      <td>0.0</td>\n",
       "      <td>0.0</td>\n",
       "    </tr>\n",
       "    <tr>\n",
       "      <th>Alex</th>\n",
       "      <td>-99.0</td>\n",
       "      <td>-99.0</td>\n",
       "      <td>5.0</td>\n",
       "      <td>99.0</td>\n",
       "      <td>0.0</td>\n",
       "      <td>5.0</td>\n",
       "      <td>5.0</td>\n",
       "      <td>5.0</td>\n",
       "      <td>0.0</td>\n",
       "      <td>0.0</td>\n",
       "      <td>...</td>\n",
       "      <td>0.0</td>\n",
       "      <td>0.0</td>\n",
       "      <td>0.0</td>\n",
       "      <td>0.0</td>\n",
       "      <td>0.0</td>\n",
       "      <td>0.0</td>\n",
       "      <td>0.0</td>\n",
       "      <td>0.0</td>\n",
       "      <td>0.0</td>\n",
       "      <td>0.0</td>\n",
       "    </tr>\n",
       "  </tbody>\n",
       "</table>\n",
       "<p>5 rows × 36 columns</p>\n",
       "</div>"
      ],
      "text/plain": [
       "        Jorg  Carola  Ingrid  Alina  Alex  Pirmin  Sophie  Helga  Anja  \\\n",
       "Jorg     0.0    99.0   -99.0  -99.0 -99.0   -99.0   -99.0    1.0   5.0   \n",
       "Carola  99.0     0.0   -99.0  -99.0 -99.0   -99.0   -99.0    0.0   0.0   \n",
       "Ingrid -99.0   -99.0     0.0    5.0   5.0     5.0     5.0    5.0   0.0   \n",
       "Alina  -99.0   -99.0     5.0    0.0  99.0     5.0     5.0    5.0   0.0   \n",
       "Alex   -99.0   -99.0     5.0   99.0   0.0     5.0     5.0    5.0   0.0   \n",
       "\n",
       "        Eckhard  ...    Melanie K  Uli  Kim  Anna-Luisa  Marcel  Jakob  \\\n",
       "Jorg        5.0  ...          0.0  0.0  0.0         0.0     0.0    0.0   \n",
       "Carola      0.0  ...          0.0  0.0  0.0         0.0     0.0    0.0   \n",
       "Ingrid      0.0  ...          0.0  0.0  0.0         0.0     0.0    0.0   \n",
       "Alina       0.0  ...          0.0  0.0  0.0         0.0     0.0    0.0   \n",
       "Alex        0.0  ...          0.0  0.0  0.0         0.0     0.0    0.0   \n",
       "\n",
       "        Jeannine  Burak  Lukas  Merle  \n",
       "Jorg         0.0    0.0    0.0    0.0  \n",
       "Carola       0.0    0.0    0.0    0.0  \n",
       "Ingrid       0.0    0.0    0.0    0.0  \n",
       "Alina        0.0    0.0    0.0    0.0  \n",
       "Alex         0.0    0.0    0.0    0.0  \n",
       "\n",
       "[5 rows x 36 columns]"
      ]
     },
     "execution_count": 6,
     "metadata": {},
     "output_type": "execute_result"
    }
   ],
   "source": [
    "m.head()"
   ]
  },
  {
   "cell_type": "markdown",
   "metadata": {},
   "source": [
    "### seats and tables **s**"
   ]
  },
  {
   "cell_type": "code",
   "execution_count": 7,
   "metadata": {},
   "outputs": [
    {
     "name": "stdout",
     "output_type": "stream",
     "text": [
      "Number of people to be seated: 36\n"
     ]
    }
   ],
   "source": [
    "print('Number of people to be seated: '+str(len(m)))"
   ]
  },
  {
   "cell_type": "code",
   "execution_count": 8,
   "metadata": {},
   "outputs": [
    {
     "name": "stdout",
     "output_type": "stream",
     "text": [
      "Number of seats over all tables: 36\n"
     ]
    }
   ],
   "source": [
    "s = [9, 9, 9, 9]\n",
    "print('Number of seats over all tables: '+str(sum(s)))"
   ]
  },
  {
   "cell_type": "markdown",
   "metadata": {},
   "source": [
    "## Initial seating"
   ]
  },
  {
   "cell_type": "code",
   "execution_count": 16,
   "metadata": {},
   "outputs": [],
   "source": [
    "seats_names = []\n",
    "table_satisf = []\n",
    "for i in range(len(s)):\n",
    "    n_start = sum(s[:i])\n",
    "    n_end = sum(s[:(i+1)])\n",
    "    \n",
    "    names = m.columns[n_start:n_end].tolist()\n",
    "    fit = pd.DataFrame({'score':m[m.index.isin(names)][names].sum(axis=1)})\n",
    "    \n",
    "    seats_names.append(fit)\n",
    "    table_satisf.append(sum(fit.score))"
   ]
  },
  {
   "cell_type": "code",
   "execution_count": 17,
   "metadata": {},
   "outputs": [
    {
     "data": {
      "text/plain": [
       "[-1244.0, 666.0, 926.0, 1012.0]"
      ]
     },
     "execution_count": 17,
     "metadata": {},
     "output_type": "execute_result"
    }
   ],
   "source": [
    "table_satisf"
   ]
  },
  {
   "cell_type": "code",
   "execution_count": 18,
   "metadata": {},
   "outputs": [
    {
     "name": "stdout",
     "output_type": "stream",
     "text": [
      "Total satisfaction is: 1360.0\n"
     ]
    }
   ],
   "source": [
    "print('Total satisfaction is: '+str(sum(table_satisf)))"
   ]
  },
  {
   "cell_type": "markdown",
   "metadata": {},
   "source": [
    "## Do 1000 pairwise changes"
   ]
  },
  {
   "cell_type": "code",
   "execution_count": 19,
   "metadata": {},
   "outputs": [],
   "source": [
    "# extract 2 people at random and let them trade seats if the sum of the table scores improves\n",
    "ts = list(range(4))\n",
    "for _ in range(10000):\n",
    "    \n",
    "    # random table\n",
    "    t1,t2 = rd.sample(set(ts), 2)\n",
    "    \n",
    "    # random person\n",
    "    s1=rd.choice(seats_names[t1].index)\n",
    "    s2=rd.choice(seats_names[t2].index)\n",
    "    \n",
    "    # new tables\n",
    "    n1 = list(seats_names[t2].drop(s2).index); n1.append(s1)\n",
    "    n2 = list(seats_names[t1].drop(s1).index); n2.append(s2)\n",
    "    \n",
    "    # new table scores\n",
    "    newt1 = pd.DataFrame({'score':m[m.index.isin(n1)][n1].sum(axis=1)})\n",
    "    newt2 = pd.DataFrame({'score':m[m.index.isin(n2)][n2].sum(axis=1)})\n",
    "    \n",
    "#     if (newt1.sum()[0]>seats_names[t1].sum()[0]) & (newt2.sum()[0]>seats_names[t2].sum()[0]):\n",
    "    if (newt1.sum()[0]+newt2.sum()[0])>(seats_names[t1].sum()[0]+seats_names[t2].sum()[0]):\n",
    "        seats_names[t1] = newt1\n",
    "        seats_names[t2] = newt2\n",
    "    else:\n",
    "        pass"
   ]
  },
  {
   "cell_type": "code",
   "execution_count": 20,
   "metadata": {},
   "outputs": [
    {
     "name": "stdout",
     "output_type": "stream",
     "text": [
      "Table 1 satisfaction: 736.0\n",
      "Table 2 satisfaction: 1010.0\n",
      "Table 3 satisfaction: 872.0\n",
      "Table 4 satisfaction: 900.0\n"
     ]
    }
   ],
   "source": [
    "satisf = 0\n",
    "for i in range(len(seats_names)):\n",
    "    i_satisf = sum(seats_names[i].score)\n",
    "    print('Table '+str(i+1)+' satisfaction: '+str(i_satisf))\n",
    "    satisf+=i_satisf"
   ]
  },
  {
   "cell_type": "code",
   "execution_count": 21,
   "metadata": {},
   "outputs": [
    {
     "name": "stdout",
     "output_type": "stream",
     "text": [
      "New total satisfaction is: 3518.0\n"
     ]
    }
   ],
   "source": [
    "print('New total satisfaction is: '+str(satisf))"
   ]
  },
  {
   "cell_type": "code",
   "execution_count": 15,
   "metadata": {},
   "outputs": [
    {
     "data": {
      "text/plain": [
       "[        score\n",
       " Chris    99.0\n",
       " Mark     99.0\n",
       " Chae      9.0\n",
       " Erik    107.0\n",
       " Sarah   100.0\n",
       " Lorenz  111.0\n",
       " Stef    111.0\n",
       " Cruz     19.0\n",
       " Marcel   17.0,          score\n",
       " Ingrid    25.0\n",
       " Alina    119.0\n",
       " Alex     119.0\n",
       " Pirmin   119.0\n",
       " Sophie   119.0\n",
       " Helga     25.0\n",
       " Anja      99.0\n",
       " Eckhard   99.0\n",
       " Burak      0.0,            score\n",
       " Juri        40.0\n",
       " Tommy      118.0\n",
       " Tanja      116.0\n",
       " Adler      118.0\n",
       " Melanie A  116.0\n",
       " Roman      118.0\n",
       " Sofia      114.0\n",
       " Toby       118.0\n",
       " Melanie K  114.0,             score\n",
       " Jorg         99.0\n",
       " Carola       99.0\n",
       " Uli         198.0\n",
       " Kim         198.0\n",
       " Anna-Luisa  198.0\n",
       " Jakob        99.0\n",
       " Jeannine     99.0\n",
       " Lukas        99.0\n",
       " Merle        99.0]"
      ]
     },
     "execution_count": 15,
     "metadata": {},
     "output_type": "execute_result"
    }
   ],
   "source": [
    "seats_names"
   ]
  },
  {
   "cell_type": "code",
   "execution_count": null,
   "metadata": {},
   "outputs": [],
   "source": []
  }
 ],
 "metadata": {
  "kernelspec": {
   "display_name": "Python 3",
   "language": "python",
   "name": "python3"
  },
  "language_info": {
   "codemirror_mode": {
    "name": "ipython",
    "version": 3
   },
   "file_extension": ".py",
   "mimetype": "text/x-python",
   "name": "python",
   "nbconvert_exporter": "python",
   "pygments_lexer": "ipython3",
   "version": "3.6.5"
  }
 },
 "nbformat": 4,
 "nbformat_minor": 2
}
